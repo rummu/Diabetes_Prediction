{
 "cells": [
  {
   "cell_type": "code",
   "execution_count": 50,
   "id": "f508fbc8",
   "metadata": {},
   "outputs": [],
   "source": [
    "import pandas as pd\n",
    "import numpy as np\n",
    "import matplotlib as plt\n",
    "%matplotlib inline\n",
    "\n",
    "import seaborn as sns\n",
    "import pickle\n",
    "from pandas_profiling import ProfileReport\n",
    "from statsmodels.stats.outliers_influence import variance_inflation_factor\n",
    "\n",
    "from sklearn.preprocessing import StandardScaler\n",
    "from sklearn.linear_model import Ridge,Lasso,RidgeCV,ElasticNet,LogisticRegression\n",
    "from sklearn.metrics import accuracy_score,confusion_matrix , roc_curve,roc_auc_score\n",
    "from sklearn.model_selection import train_test_split"
   ]
  },
  {
   "cell_type": "code",
   "execution_count": null,
   "id": "62a7d6d9",
   "metadata": {},
   "outputs": [],
   "source": []
  },
  {
   "cell_type": "code",
   "execution_count": 2,
   "id": "96d2a29a",
   "metadata": {},
   "outputs": [],
   "source": [
    "df = pd.read_csv('https://raw.githubusercontent.com/plotly/datasets/master/diabetes.csv')"
   ]
  },
  {
   "cell_type": "code",
   "execution_count": 3,
   "id": "5b56a885",
   "metadata": {},
   "outputs": [
    {
     "data": {
      "text/html": [
       "<div>\n",
       "<style scoped>\n",
       "    .dataframe tbody tr th:only-of-type {\n",
       "        vertical-align: middle;\n",
       "    }\n",
       "\n",
       "    .dataframe tbody tr th {\n",
       "        vertical-align: top;\n",
       "    }\n",
       "\n",
       "    .dataframe thead th {\n",
       "        text-align: right;\n",
       "    }\n",
       "</style>\n",
       "<table border=\"1\" class=\"dataframe\">\n",
       "  <thead>\n",
       "    <tr style=\"text-align: right;\">\n",
       "      <th></th>\n",
       "      <th>Pregnancies</th>\n",
       "      <th>Glucose</th>\n",
       "      <th>BloodPressure</th>\n",
       "      <th>SkinThickness</th>\n",
       "      <th>Insulin</th>\n",
       "      <th>BMI</th>\n",
       "      <th>DiabetesPedigreeFunction</th>\n",
       "      <th>Age</th>\n",
       "      <th>Outcome</th>\n",
       "    </tr>\n",
       "  </thead>\n",
       "  <tbody>\n",
       "    <tr>\n",
       "      <th>0</th>\n",
       "      <td>6</td>\n",
       "      <td>148</td>\n",
       "      <td>72</td>\n",
       "      <td>35</td>\n",
       "      <td>0</td>\n",
       "      <td>33.6</td>\n",
       "      <td>0.627</td>\n",
       "      <td>50</td>\n",
       "      <td>1</td>\n",
       "    </tr>\n",
       "    <tr>\n",
       "      <th>1</th>\n",
       "      <td>1</td>\n",
       "      <td>85</td>\n",
       "      <td>66</td>\n",
       "      <td>29</td>\n",
       "      <td>0</td>\n",
       "      <td>26.6</td>\n",
       "      <td>0.351</td>\n",
       "      <td>31</td>\n",
       "      <td>0</td>\n",
       "    </tr>\n",
       "    <tr>\n",
       "      <th>2</th>\n",
       "      <td>8</td>\n",
       "      <td>183</td>\n",
       "      <td>64</td>\n",
       "      <td>0</td>\n",
       "      <td>0</td>\n",
       "      <td>23.3</td>\n",
       "      <td>0.672</td>\n",
       "      <td>32</td>\n",
       "      <td>1</td>\n",
       "    </tr>\n",
       "    <tr>\n",
       "      <th>3</th>\n",
       "      <td>1</td>\n",
       "      <td>89</td>\n",
       "      <td>66</td>\n",
       "      <td>23</td>\n",
       "      <td>94</td>\n",
       "      <td>28.1</td>\n",
       "      <td>0.167</td>\n",
       "      <td>21</td>\n",
       "      <td>0</td>\n",
       "    </tr>\n",
       "    <tr>\n",
       "      <th>4</th>\n",
       "      <td>0</td>\n",
       "      <td>137</td>\n",
       "      <td>40</td>\n",
       "      <td>35</td>\n",
       "      <td>168</td>\n",
       "      <td>43.1</td>\n",
       "      <td>2.288</td>\n",
       "      <td>33</td>\n",
       "      <td>1</td>\n",
       "    </tr>\n",
       "    <tr>\n",
       "      <th>...</th>\n",
       "      <td>...</td>\n",
       "      <td>...</td>\n",
       "      <td>...</td>\n",
       "      <td>...</td>\n",
       "      <td>...</td>\n",
       "      <td>...</td>\n",
       "      <td>...</td>\n",
       "      <td>...</td>\n",
       "      <td>...</td>\n",
       "    </tr>\n",
       "    <tr>\n",
       "      <th>763</th>\n",
       "      <td>10</td>\n",
       "      <td>101</td>\n",
       "      <td>76</td>\n",
       "      <td>48</td>\n",
       "      <td>180</td>\n",
       "      <td>32.9</td>\n",
       "      <td>0.171</td>\n",
       "      <td>63</td>\n",
       "      <td>0</td>\n",
       "    </tr>\n",
       "    <tr>\n",
       "      <th>764</th>\n",
       "      <td>2</td>\n",
       "      <td>122</td>\n",
       "      <td>70</td>\n",
       "      <td>27</td>\n",
       "      <td>0</td>\n",
       "      <td>36.8</td>\n",
       "      <td>0.340</td>\n",
       "      <td>27</td>\n",
       "      <td>0</td>\n",
       "    </tr>\n",
       "    <tr>\n",
       "      <th>765</th>\n",
       "      <td>5</td>\n",
       "      <td>121</td>\n",
       "      <td>72</td>\n",
       "      <td>23</td>\n",
       "      <td>112</td>\n",
       "      <td>26.2</td>\n",
       "      <td>0.245</td>\n",
       "      <td>30</td>\n",
       "      <td>0</td>\n",
       "    </tr>\n",
       "    <tr>\n",
       "      <th>766</th>\n",
       "      <td>1</td>\n",
       "      <td>126</td>\n",
       "      <td>60</td>\n",
       "      <td>0</td>\n",
       "      <td>0</td>\n",
       "      <td>30.1</td>\n",
       "      <td>0.349</td>\n",
       "      <td>47</td>\n",
       "      <td>1</td>\n",
       "    </tr>\n",
       "    <tr>\n",
       "      <th>767</th>\n",
       "      <td>1</td>\n",
       "      <td>93</td>\n",
       "      <td>70</td>\n",
       "      <td>31</td>\n",
       "      <td>0</td>\n",
       "      <td>30.4</td>\n",
       "      <td>0.315</td>\n",
       "      <td>23</td>\n",
       "      <td>0</td>\n",
       "    </tr>\n",
       "  </tbody>\n",
       "</table>\n",
       "<p>768 rows × 9 columns</p>\n",
       "</div>"
      ],
      "text/plain": [
       "     Pregnancies  Glucose  BloodPressure  SkinThickness  Insulin   BMI  \\\n",
       "0              6      148             72             35        0  33.6   \n",
       "1              1       85             66             29        0  26.6   \n",
       "2              8      183             64              0        0  23.3   \n",
       "3              1       89             66             23       94  28.1   \n",
       "4              0      137             40             35      168  43.1   \n",
       "..           ...      ...            ...            ...      ...   ...   \n",
       "763           10      101             76             48      180  32.9   \n",
       "764            2      122             70             27        0  36.8   \n",
       "765            5      121             72             23      112  26.2   \n",
       "766            1      126             60              0        0  30.1   \n",
       "767            1       93             70             31        0  30.4   \n",
       "\n",
       "     DiabetesPedigreeFunction  Age  Outcome  \n",
       "0                       0.627   50        1  \n",
       "1                       0.351   31        0  \n",
       "2                       0.672   32        1  \n",
       "3                       0.167   21        0  \n",
       "4                       2.288   33        1  \n",
       "..                        ...  ...      ...  \n",
       "763                     0.171   63        0  \n",
       "764                     0.340   27        0  \n",
       "765                     0.245   30        0  \n",
       "766                     0.349   47        1  \n",
       "767                     0.315   23        0  \n",
       "\n",
       "[768 rows x 9 columns]"
      ]
     },
     "execution_count": 3,
     "metadata": {},
     "output_type": "execute_result"
    }
   ],
   "source": [
    "df"
   ]
  },
  {
   "cell_type": "code",
   "execution_count": null,
   "id": "081efeda",
   "metadata": {},
   "outputs": [],
   "source": []
  },
  {
   "cell_type": "code",
   "execution_count": 4,
   "id": "fdaae351",
   "metadata": {},
   "outputs": [
    {
     "data": {
      "text/html": [
       "<div>\n",
       "<style scoped>\n",
       "    .dataframe tbody tr th:only-of-type {\n",
       "        vertical-align: middle;\n",
       "    }\n",
       "\n",
       "    .dataframe tbody tr th {\n",
       "        vertical-align: top;\n",
       "    }\n",
       "\n",
       "    .dataframe thead th {\n",
       "        text-align: right;\n",
       "    }\n",
       "</style>\n",
       "<table border=\"1\" class=\"dataframe\">\n",
       "  <thead>\n",
       "    <tr style=\"text-align: right;\">\n",
       "      <th></th>\n",
       "      <th>Pregnancies</th>\n",
       "      <th>Glucose</th>\n",
       "      <th>BloodPressure</th>\n",
       "      <th>SkinThickness</th>\n",
       "      <th>Insulin</th>\n",
       "      <th>BMI</th>\n",
       "      <th>DiabetesPedigreeFunction</th>\n",
       "      <th>Age</th>\n",
       "      <th>Outcome</th>\n",
       "    </tr>\n",
       "  </thead>\n",
       "  <tbody>\n",
       "    <tr>\n",
       "      <th>count</th>\n",
       "      <td>768.000000</td>\n",
       "      <td>768.000000</td>\n",
       "      <td>768.000000</td>\n",
       "      <td>768.000000</td>\n",
       "      <td>768.000000</td>\n",
       "      <td>768.000000</td>\n",
       "      <td>768.000000</td>\n",
       "      <td>768.000000</td>\n",
       "      <td>768.000000</td>\n",
       "    </tr>\n",
       "    <tr>\n",
       "      <th>mean</th>\n",
       "      <td>3.845052</td>\n",
       "      <td>120.894531</td>\n",
       "      <td>69.105469</td>\n",
       "      <td>20.536458</td>\n",
       "      <td>79.799479</td>\n",
       "      <td>31.992578</td>\n",
       "      <td>0.471876</td>\n",
       "      <td>33.240885</td>\n",
       "      <td>0.348958</td>\n",
       "    </tr>\n",
       "    <tr>\n",
       "      <th>std</th>\n",
       "      <td>3.369578</td>\n",
       "      <td>31.972618</td>\n",
       "      <td>19.355807</td>\n",
       "      <td>15.952218</td>\n",
       "      <td>115.244002</td>\n",
       "      <td>7.884160</td>\n",
       "      <td>0.331329</td>\n",
       "      <td>11.760232</td>\n",
       "      <td>0.476951</td>\n",
       "    </tr>\n",
       "    <tr>\n",
       "      <th>min</th>\n",
       "      <td>0.000000</td>\n",
       "      <td>0.000000</td>\n",
       "      <td>0.000000</td>\n",
       "      <td>0.000000</td>\n",
       "      <td>0.000000</td>\n",
       "      <td>0.000000</td>\n",
       "      <td>0.078000</td>\n",
       "      <td>21.000000</td>\n",
       "      <td>0.000000</td>\n",
       "    </tr>\n",
       "    <tr>\n",
       "      <th>25%</th>\n",
       "      <td>1.000000</td>\n",
       "      <td>99.000000</td>\n",
       "      <td>62.000000</td>\n",
       "      <td>0.000000</td>\n",
       "      <td>0.000000</td>\n",
       "      <td>27.300000</td>\n",
       "      <td>0.243750</td>\n",
       "      <td>24.000000</td>\n",
       "      <td>0.000000</td>\n",
       "    </tr>\n",
       "    <tr>\n",
       "      <th>50%</th>\n",
       "      <td>3.000000</td>\n",
       "      <td>117.000000</td>\n",
       "      <td>72.000000</td>\n",
       "      <td>23.000000</td>\n",
       "      <td>30.500000</td>\n",
       "      <td>32.000000</td>\n",
       "      <td>0.372500</td>\n",
       "      <td>29.000000</td>\n",
       "      <td>0.000000</td>\n",
       "    </tr>\n",
       "    <tr>\n",
       "      <th>75%</th>\n",
       "      <td>6.000000</td>\n",
       "      <td>140.250000</td>\n",
       "      <td>80.000000</td>\n",
       "      <td>32.000000</td>\n",
       "      <td>127.250000</td>\n",
       "      <td>36.600000</td>\n",
       "      <td>0.626250</td>\n",
       "      <td>41.000000</td>\n",
       "      <td>1.000000</td>\n",
       "    </tr>\n",
       "    <tr>\n",
       "      <th>max</th>\n",
       "      <td>17.000000</td>\n",
       "      <td>199.000000</td>\n",
       "      <td>122.000000</td>\n",
       "      <td>99.000000</td>\n",
       "      <td>846.000000</td>\n",
       "      <td>67.100000</td>\n",
       "      <td>2.420000</td>\n",
       "      <td>81.000000</td>\n",
       "      <td>1.000000</td>\n",
       "    </tr>\n",
       "  </tbody>\n",
       "</table>\n",
       "</div>"
      ],
      "text/plain": [
       "       Pregnancies     Glucose  BloodPressure  SkinThickness     Insulin  \\\n",
       "count   768.000000  768.000000     768.000000     768.000000  768.000000   \n",
       "mean      3.845052  120.894531      69.105469      20.536458   79.799479   \n",
       "std       3.369578   31.972618      19.355807      15.952218  115.244002   \n",
       "min       0.000000    0.000000       0.000000       0.000000    0.000000   \n",
       "25%       1.000000   99.000000      62.000000       0.000000    0.000000   \n",
       "50%       3.000000  117.000000      72.000000      23.000000   30.500000   \n",
       "75%       6.000000  140.250000      80.000000      32.000000  127.250000   \n",
       "max      17.000000  199.000000     122.000000      99.000000  846.000000   \n",
       "\n",
       "              BMI  DiabetesPedigreeFunction         Age     Outcome  \n",
       "count  768.000000                768.000000  768.000000  768.000000  \n",
       "mean    31.992578                  0.471876   33.240885    0.348958  \n",
       "std      7.884160                  0.331329   11.760232    0.476951  \n",
       "min      0.000000                  0.078000   21.000000    0.000000  \n",
       "25%     27.300000                  0.243750   24.000000    0.000000  \n",
       "50%     32.000000                  0.372500   29.000000    0.000000  \n",
       "75%     36.600000                  0.626250   41.000000    1.000000  \n",
       "max     67.100000                  2.420000   81.000000    1.000000  "
      ]
     },
     "execution_count": 4,
     "metadata": {},
     "output_type": "execute_result"
    }
   ],
   "source": [
    "df.describe()"
   ]
  },
  {
   "cell_type": "code",
   "execution_count": 5,
   "id": "a3aaee1b",
   "metadata": {},
   "outputs": [
    {
     "name": "stdout",
     "output_type": "stream",
     "text": [
      "<class 'pandas.core.frame.DataFrame'>\n",
      "RangeIndex: 768 entries, 0 to 767\n",
      "Data columns (total 9 columns):\n",
      " #   Column                    Non-Null Count  Dtype  \n",
      "---  ------                    --------------  -----  \n",
      " 0   Pregnancies               768 non-null    int64  \n",
      " 1   Glucose                   768 non-null    int64  \n",
      " 2   BloodPressure             768 non-null    int64  \n",
      " 3   SkinThickness             768 non-null    int64  \n",
      " 4   Insulin                   768 non-null    int64  \n",
      " 5   BMI                       768 non-null    float64\n",
      " 6   DiabetesPedigreeFunction  768 non-null    float64\n",
      " 7   Age                       768 non-null    int64  \n",
      " 8   Outcome                   768 non-null    int64  \n",
      "dtypes: float64(2), int64(7)\n",
      "memory usage: 54.1 KB\n"
     ]
    }
   ],
   "source": [
    "df.info()"
   ]
  },
  {
   "cell_type": "code",
   "execution_count": null,
   "id": "e2912a73",
   "metadata": {},
   "outputs": [],
   "source": []
  },
  {
   "cell_type": "code",
   "execution_count": null,
   "id": "fd6a053b",
   "metadata": {},
   "outputs": [],
   "source": []
  },
  {
   "cell_type": "code",
   "execution_count": 53,
   "id": "a58b3f65",
   "metadata": {},
   "outputs": [],
   "source": [
    "# ProfileReport(df)"
   ]
  },
  {
   "cell_type": "code",
   "execution_count": null,
   "id": "2eba2d95",
   "metadata": {},
   "outputs": [],
   "source": []
  },
  {
   "cell_type": "code",
   "execution_count": 7,
   "id": "5fca426d",
   "metadata": {},
   "outputs": [],
   "source": [
    "#There are Zeroes values in 5columns so replace them with their mean"
   ]
  },
  {
   "cell_type": "code",
   "execution_count": 8,
   "id": "ec7ac9bb",
   "metadata": {},
   "outputs": [
    {
     "data": {
      "text/plain": [
       "Index(['Pregnancies', 'Glucose', 'BloodPressure', 'SkinThickness', 'Insulin',\n",
       "       'BMI', 'DiabetesPedigreeFunction', 'Age', 'Outcome'],\n",
       "      dtype='object')"
      ]
     },
     "execution_count": 8,
     "metadata": {},
     "output_type": "execute_result"
    }
   ],
   "source": [
    "df.columns"
   ]
  },
  {
   "cell_type": "code",
   "execution_count": 9,
   "id": "6b17fed7",
   "metadata": {},
   "outputs": [],
   "source": [
    "df['Pregnancies'] = df['Pregnancies'].replace(0,df['Pregnancies'].mean())\n",
    "df['Glucose'] = df['Glucose'].replace(0,df['Glucose'].mean())\n",
    "df['BloodPressure'] = df['BloodPressure'].replace(0,df['BloodPressure'].mean())\n",
    "df['SkinThickness'] = df['SkinThickness'].replace(0,df['SkinThickness'].mean())\n",
    "df['Insulin'] = df['Insulin'].replace(0,df['Insulin'].mean())"
   ]
  },
  {
   "cell_type": "code",
   "execution_count": null,
   "id": "9361008a",
   "metadata": {},
   "outputs": [],
   "source": []
  },
  {
   "cell_type": "code",
   "execution_count": 54,
   "id": "cd9b1915",
   "metadata": {},
   "outputs": [],
   "source": [
    "# ProfileReport(df)   #Check the Report again"
   ]
  },
  {
   "cell_type": "code",
   "execution_count": null,
   "id": "ba03f4b5",
   "metadata": {},
   "outputs": [],
   "source": []
  },
  {
   "cell_type": "code",
   "execution_count": null,
   "id": "86282248",
   "metadata": {},
   "outputs": [],
   "source": []
  },
  {
   "cell_type": "code",
   "execution_count": 11,
   "id": "a2d65d5b",
   "metadata": {},
   "outputs": [],
   "source": [
    "#Plot Boxplot for outliers"
   ]
  },
  {
   "cell_type": "code",
   "execution_count": 51,
   "id": "3480647c",
   "metadata": {},
   "outputs": [
    {
     "data": {
      "text/plain": [
       "<AxesSubplot:>"
      ]
     },
     "execution_count": 51,
     "metadata": {},
     "output_type": "execute_result"
    },
    {
     "data": {
      "image/png": "[encoded data removed]",
      "text/plain": [
       "<Figure size 1440x1440 with 1 Axes>"
      ]
     },
     "metadata": {
      "needs_background": "light"
     },
     "output_type": "display_data"
    }
   ],
   "source": [
    "fig,ax=plt.pyplot.subplots(figsize=(20,20))\n",
    "sns.boxplot(data=df,ax=ax)"
   ]
  },
  {
   "cell_type": "code",
   "execution_count": null,
   "id": "4bb935e6",
   "metadata": {},
   "outputs": [],
   "source": []
  },
  {
   "cell_type": "code",
   "execution_count": 13,
   "id": "faa18936",
   "metadata": {},
   "outputs": [],
   "source": [
    "#Now remove the outliers "
   ]
  },
  {
   "cell_type": "code",
   "execution_count": 14,
   "id": "26bd9663",
   "metadata": {},
   "outputs": [],
   "source": [
    "q = df['Pregnancies'].quantile(.98)\n",
    "df_new = df[df['Pregnancies']<q]"
   ]
  },
  {
   "cell_type": "code",
   "execution_count": 15,
   "id": "a1981b1b",
   "metadata": {},
   "outputs": [],
   "source": [
    "q = df['BMI'].quantile(.99)\n",
    "df_new = df_new[df_new['BMI']<q]"
   ]
  },
  {
   "cell_type": "code",
   "execution_count": 16,
   "id": "46533e3a",
   "metadata": {},
   "outputs": [],
   "source": [
    "q = df['SkinThickness'].quantile(.99)\n",
    "df_new = df_new[df_new['SkinThickness']<q]"
   ]
  },
  {
   "cell_type": "code",
   "execution_count": 17,
   "id": "91727dc3",
   "metadata": {},
   "outputs": [],
   "source": [
    "q = df['Insulin'].quantile(.95)\n",
    "df_new = df_new[df_new['Insulin']<q]"
   ]
  },
  {
   "cell_type": "code",
   "execution_count": 18,
   "id": "5d076dfc",
   "metadata": {},
   "outputs": [],
   "source": [
    "q = df['DiabetesPedigreeFunction'].quantile(.99)\n",
    "df_new = df_new[df_new['DiabetesPedigreeFunction']<q]"
   ]
  },
  {
   "cell_type": "code",
   "execution_count": 19,
   "id": "0956d74f",
   "metadata": {},
   "outputs": [],
   "source": [
    "q = df['Age'].quantile(.99)\n",
    "df_new = df_new[df_new['Age']<q]"
   ]
  },
  {
   "cell_type": "code",
   "execution_count": null,
   "id": "72772429",
   "metadata": {},
   "outputs": [],
   "source": []
  },
  {
   "cell_type": "code",
   "execution_count": 20,
   "id": "3b1f30b2",
   "metadata": {},
   "outputs": [
    {
     "data": {
      "text/html": [
       "<div>\n",
       "<style scoped>\n",
       "    .dataframe tbody tr th:only-of-type {\n",
       "        vertical-align: middle;\n",
       "    }\n",
       "\n",
       "    .dataframe tbody tr th {\n",
       "        vertical-align: top;\n",
       "    }\n",
       "\n",
       "    .dataframe thead th {\n",
       "        text-align: right;\n",
       "    }\n",
       "</style>\n",
       "<table border=\"1\" class=\"dataframe\">\n",
       "  <thead>\n",
       "    <tr style=\"text-align: right;\">\n",
       "      <th></th>\n",
       "      <th>Pregnancies</th>\n",
       "      <th>Glucose</th>\n",
       "      <th>BloodPressure</th>\n",
       "      <th>SkinThickness</th>\n",
       "      <th>Insulin</th>\n",
       "      <th>BMI</th>\n",
       "      <th>DiabetesPedigreeFunction</th>\n",
       "      <th>Age</th>\n",
       "      <th>Outcome</th>\n",
       "    </tr>\n",
       "  </thead>\n",
       "  <tbody>\n",
       "    <tr>\n",
       "      <th>0</th>\n",
       "      <td>6.0</td>\n",
       "      <td>148.0</td>\n",
       "      <td>72.0</td>\n",
       "      <td>35.000000</td>\n",
       "      <td>79.799479</td>\n",
       "      <td>33.6</td>\n",
       "      <td>0.627</td>\n",
       "      <td>50</td>\n",
       "      <td>1</td>\n",
       "    </tr>\n",
       "    <tr>\n",
       "      <th>1</th>\n",
       "      <td>1.0</td>\n",
       "      <td>85.0</td>\n",
       "      <td>66.0</td>\n",
       "      <td>29.000000</td>\n",
       "      <td>79.799479</td>\n",
       "      <td>26.6</td>\n",
       "      <td>0.351</td>\n",
       "      <td>31</td>\n",
       "      <td>0</td>\n",
       "    </tr>\n",
       "    <tr>\n",
       "      <th>2</th>\n",
       "      <td>8.0</td>\n",
       "      <td>183.0</td>\n",
       "      <td>64.0</td>\n",
       "      <td>20.536458</td>\n",
       "      <td>79.799479</td>\n",
       "      <td>23.3</td>\n",
       "      <td>0.672</td>\n",
       "      <td>32</td>\n",
       "      <td>1</td>\n",
       "    </tr>\n",
       "    <tr>\n",
       "      <th>3</th>\n",
       "      <td>1.0</td>\n",
       "      <td>89.0</td>\n",
       "      <td>66.0</td>\n",
       "      <td>23.000000</td>\n",
       "      <td>94.000000</td>\n",
       "      <td>28.1</td>\n",
       "      <td>0.167</td>\n",
       "      <td>21</td>\n",
       "      <td>0</td>\n",
       "    </tr>\n",
       "    <tr>\n",
       "      <th>5</th>\n",
       "      <td>5.0</td>\n",
       "      <td>116.0</td>\n",
       "      <td>74.0</td>\n",
       "      <td>20.536458</td>\n",
       "      <td>79.799479</td>\n",
       "      <td>25.6</td>\n",
       "      <td>0.201</td>\n",
       "      <td>30</td>\n",
       "      <td>0</td>\n",
       "    </tr>\n",
       "    <tr>\n",
       "      <th>...</th>\n",
       "      <td>...</td>\n",
       "      <td>...</td>\n",
       "      <td>...</td>\n",
       "      <td>...</td>\n",
       "      <td>...</td>\n",
       "      <td>...</td>\n",
       "      <td>...</td>\n",
       "      <td>...</td>\n",
       "      <td>...</td>\n",
       "    </tr>\n",
       "    <tr>\n",
       "      <th>763</th>\n",
       "      <td>10.0</td>\n",
       "      <td>101.0</td>\n",
       "      <td>76.0</td>\n",
       "      <td>48.000000</td>\n",
       "      <td>180.000000</td>\n",
       "      <td>32.9</td>\n",
       "      <td>0.171</td>\n",
       "      <td>63</td>\n",
       "      <td>0</td>\n",
       "    </tr>\n",
       "    <tr>\n",
       "      <th>764</th>\n",
       "      <td>2.0</td>\n",
       "      <td>122.0</td>\n",
       "      <td>70.0</td>\n",
       "      <td>27.000000</td>\n",
       "      <td>79.799479</td>\n",
       "      <td>36.8</td>\n",
       "      <td>0.340</td>\n",
       "      <td>27</td>\n",
       "      <td>0</td>\n",
       "    </tr>\n",
       "    <tr>\n",
       "      <th>765</th>\n",
       "      <td>5.0</td>\n",
       "      <td>121.0</td>\n",
       "      <td>72.0</td>\n",
       "      <td>23.000000</td>\n",
       "      <td>112.000000</td>\n",
       "      <td>26.2</td>\n",
       "      <td>0.245</td>\n",
       "      <td>30</td>\n",
       "      <td>0</td>\n",
       "    </tr>\n",
       "    <tr>\n",
       "      <th>766</th>\n",
       "      <td>1.0</td>\n",
       "      <td>126.0</td>\n",
       "      <td>60.0</td>\n",
       "      <td>20.536458</td>\n",
       "      <td>79.799479</td>\n",
       "      <td>30.1</td>\n",
       "      <td>0.349</td>\n",
       "      <td>47</td>\n",
       "      <td>1</td>\n",
       "    </tr>\n",
       "    <tr>\n",
       "      <th>767</th>\n",
       "      <td>1.0</td>\n",
       "      <td>93.0</td>\n",
       "      <td>70.0</td>\n",
       "      <td>31.000000</td>\n",
       "      <td>79.799479</td>\n",
       "      <td>30.4</td>\n",
       "      <td>0.315</td>\n",
       "      <td>23</td>\n",
       "      <td>0</td>\n",
       "    </tr>\n",
       "  </tbody>\n",
       "</table>\n",
       "<p>680 rows × 9 columns</p>\n",
       "</div>"
      ],
      "text/plain": [
       "     Pregnancies  Glucose  BloodPressure  SkinThickness     Insulin   BMI  \\\n",
       "0            6.0    148.0           72.0      35.000000   79.799479  33.6   \n",
       "1            1.0     85.0           66.0      29.000000   79.799479  26.6   \n",
       "2            8.0    183.0           64.0      20.536458   79.799479  23.3   \n",
       "3            1.0     89.0           66.0      23.000000   94.000000  28.1   \n",
       "5            5.0    116.0           74.0      20.536458   79.799479  25.6   \n",
       "..           ...      ...            ...            ...         ...   ...   \n",
       "763         10.0    101.0           76.0      48.000000  180.000000  32.9   \n",
       "764          2.0    122.0           70.0      27.000000   79.799479  36.8   \n",
       "765          5.0    121.0           72.0      23.000000  112.000000  26.2   \n",
       "766          1.0    126.0           60.0      20.536458   79.799479  30.1   \n",
       "767          1.0     93.0           70.0      31.000000   79.799479  30.4   \n",
       "\n",
       "     DiabetesPedigreeFunction  Age  Outcome  \n",
       "0                       0.627   50        1  \n",
       "1                       0.351   31        0  \n",
       "2                       0.672   32        1  \n",
       "3                       0.167   21        0  \n",
       "5                       0.201   30        0  \n",
       "..                        ...  ...      ...  \n",
       "763                     0.171   63        0  \n",
       "764                     0.340   27        0  \n",
       "765                     0.245   30        0  \n",
       "766                     0.349   47        1  \n",
       "767                     0.315   23        0  \n",
       "\n",
       "[680 rows x 9 columns]"
      ]
     },
     "execution_count": 20,
     "metadata": {},
     "output_type": "execute_result"
    }
   ],
   "source": [
    "df_new"
   ]
  },
  {
   "cell_type": "code",
   "execution_count": null,
   "id": "aff32231",
   "metadata": {},
   "outputs": [],
   "source": []
  },
  {
   "cell_type": "code",
   "execution_count": 52,
   "id": "e86f5389",
   "metadata": {},
   "outputs": [
    {
     "data": {
      "text/plain": [
       "<AxesSubplot:>"
      ]
     },
     "execution_count": 52,
     "metadata": {},
     "output_type": "execute_result"
    },
    {
     "data": {
      "image/png": "[encoded data removed]",
      "text/plain": [
       "<Figure size 1440x1440 with 1 Axes>"
      ]
     },
     "metadata": {
      "needs_background": "light"
     },
     "output_type": "display_data"
    }
   ],
   "source": [
    "#Check again  the box plot\n",
    "fig,ax=plt.pyplot.subplots(figsize=(20,20))\n",
    "sns.boxplot(data=df_new,ax=ax)"
   ]
  },
  {
   "cell_type": "code",
   "execution_count": null,
   "id": "3860914c",
   "metadata": {},
   "outputs": [],
   "source": []
  },
  {
   "cell_type": "code",
   "execution_count": null,
   "id": "50e42b38",
   "metadata": {},
   "outputs": [],
   "source": []
  },
  {
   "cell_type": "code",
   "execution_count": 22,
   "id": "e50879ae",
   "metadata": {},
   "outputs": [],
   "source": [
    "#Standard Scaling"
   ]
  },
  {
   "cell_type": "code",
   "execution_count": 23,
   "id": "493d6dd1",
   "metadata": {},
   "outputs": [],
   "source": [
    "x = df_new.drop(columns=['Outcome'])\n",
    "y = df_new['Outcome']"
   ]
  },
  {
   "cell_type": "code",
   "execution_count": null,
   "id": "c7d2c929",
   "metadata": {},
   "outputs": [],
   "source": []
  },
  {
   "cell_type": "code",
   "execution_count": 24,
   "id": "c2fecded",
   "metadata": {},
   "outputs": [],
   "source": [
    "scaler = StandardScaler()\n",
    "x_scaled = scaler.fit_transform(x)\n",
    "df_scaled = pd.DataFrame(x_scaled,columns = x.columns)"
   ]
  },
  {
   "cell_type": "code",
   "execution_count": 25,
   "id": "881c42c8",
   "metadata": {},
   "outputs": [
    {
     "data": {
      "text/html": [
       "<div>\n",
       "<style scoped>\n",
       "    .dataframe tbody tr th:only-of-type {\n",
       "        vertical-align: middle;\n",
       "    }\n",
       "\n",
       "    .dataframe tbody tr th {\n",
       "        vertical-align: top;\n",
       "    }\n",
       "\n",
       "    .dataframe thead th {\n",
       "        text-align: right;\n",
       "    }\n",
       "</style>\n",
       "<table border=\"1\" class=\"dataframe\">\n",
       "  <thead>\n",
       "    <tr style=\"text-align: right;\">\n",
       "      <th></th>\n",
       "      <th>Pregnancies</th>\n",
       "      <th>Glucose</th>\n",
       "      <th>BloodPressure</th>\n",
       "      <th>SkinThickness</th>\n",
       "      <th>Insulin</th>\n",
       "      <th>BMI</th>\n",
       "      <th>DiabetesPedigreeFunction</th>\n",
       "      <th>Age</th>\n",
       "    </tr>\n",
       "  </thead>\n",
       "  <tbody>\n",
       "    <tr>\n",
       "      <th>0</th>\n",
       "      <td>0.710502</td>\n",
       "      <td>0.988184</td>\n",
       "      <td>-0.002277</td>\n",
       "      <td>1.054582</td>\n",
       "      <td>-0.438841</td>\n",
       "      <td>0.283399</td>\n",
       "      <td>0.606953</td>\n",
       "      <td>1.610682</td>\n",
       "    </tr>\n",
       "    <tr>\n",
       "      <th>1</th>\n",
       "      <td>-1.197360</td>\n",
       "      <td>-1.168675</td>\n",
       "      <td>-0.507825</td>\n",
       "      <td>0.362698</td>\n",
       "      <td>-0.438841</td>\n",
       "      <td>-0.665984</td>\n",
       "      <td>-0.340466</td>\n",
       "      <td>-0.127396</td>\n",
       "    </tr>\n",
       "    <tr>\n",
       "      <th>2</th>\n",
       "      <td>1.473647</td>\n",
       "      <td>2.186439</td>\n",
       "      <td>-0.676341</td>\n",
       "      <td>-0.613268</td>\n",
       "      <td>-0.438841</td>\n",
       "      <td>-1.113551</td>\n",
       "      <td>0.761423</td>\n",
       "      <td>-0.035918</td>\n",
       "    </tr>\n",
       "    <tr>\n",
       "      <th>3</th>\n",
       "      <td>-1.197360</td>\n",
       "      <td>-1.031731</td>\n",
       "      <td>-0.507825</td>\n",
       "      <td>-0.329187</td>\n",
       "      <td>-0.152817</td>\n",
       "      <td>-0.462545</td>\n",
       "      <td>-0.972078</td>\n",
       "      <td>-1.042174</td>\n",
       "    </tr>\n",
       "    <tr>\n",
       "      <th>4</th>\n",
       "      <td>0.328929</td>\n",
       "      <td>-0.107363</td>\n",
       "      <td>0.166239</td>\n",
       "      <td>-0.613268</td>\n",
       "      <td>-0.438841</td>\n",
       "      <td>-0.801611</td>\n",
       "      <td>-0.855367</td>\n",
       "      <td>-0.218874</td>\n",
       "    </tr>\n",
       "    <tr>\n",
       "      <th>...</th>\n",
       "      <td>...</td>\n",
       "      <td>...</td>\n",
       "      <td>...</td>\n",
       "      <td>...</td>\n",
       "      <td>...</td>\n",
       "      <td>...</td>\n",
       "      <td>...</td>\n",
       "      <td>...</td>\n",
       "    </tr>\n",
       "    <tr>\n",
       "      <th>675</th>\n",
       "      <td>2.236791</td>\n",
       "      <td>-0.620901</td>\n",
       "      <td>0.334755</td>\n",
       "      <td>2.553666</td>\n",
       "      <td>1.579376</td>\n",
       "      <td>0.188461</td>\n",
       "      <td>-0.958348</td>\n",
       "      <td>2.799893</td>\n",
       "    </tr>\n",
       "    <tr>\n",
       "      <th>676</th>\n",
       "      <td>-0.815788</td>\n",
       "      <td>0.098052</td>\n",
       "      <td>-0.170793</td>\n",
       "      <td>0.132070</td>\n",
       "      <td>-0.438841</td>\n",
       "      <td>0.717403</td>\n",
       "      <td>-0.378225</td>\n",
       "      <td>-0.493307</td>\n",
       "    </tr>\n",
       "    <tr>\n",
       "      <th>677</th>\n",
       "      <td>0.328929</td>\n",
       "      <td>0.063816</td>\n",
       "      <td>-0.002277</td>\n",
       "      <td>-0.329187</td>\n",
       "      <td>0.209735</td>\n",
       "      <td>-0.720235</td>\n",
       "      <td>-0.704330</td>\n",
       "      <td>-0.218874</td>\n",
       "    </tr>\n",
       "    <tr>\n",
       "      <th>678</th>\n",
       "      <td>-1.197360</td>\n",
       "      <td>0.234995</td>\n",
       "      <td>-1.013373</td>\n",
       "      <td>-0.613268</td>\n",
       "      <td>-0.438841</td>\n",
       "      <td>-0.191293</td>\n",
       "      <td>-0.347331</td>\n",
       "      <td>1.336248</td>\n",
       "    </tr>\n",
       "    <tr>\n",
       "      <th>679</th>\n",
       "      <td>-1.197360</td>\n",
       "      <td>-0.894788</td>\n",
       "      <td>-0.170793</td>\n",
       "      <td>0.593326</td>\n",
       "      <td>-0.438841</td>\n",
       "      <td>-0.150605</td>\n",
       "      <td>-0.464042</td>\n",
       "      <td>-0.859218</td>\n",
       "    </tr>\n",
       "  </tbody>\n",
       "</table>\n",
       "<p>680 rows × 8 columns</p>\n",
       "</div>"
      ],
      "text/plain": [
       "     Pregnancies   Glucose  BloodPressure  SkinThickness   Insulin       BMI  \\\n",
       "0       0.710502  0.988184      -0.002277       1.054582 -0.438841  0.283399   \n",
       "1      -1.197360 -1.168675      -0.507825       0.362698 -0.438841 -0.665984   \n",
       "2       1.473647  2.186439      -0.676341      -0.613268 -0.438841 -1.113551   \n",
       "3      -1.197360 -1.031731      -0.507825      -0.329187 -0.152817 -0.462545   \n",
       "4       0.328929 -0.107363       0.166239      -0.613268 -0.438841 -0.801611   \n",
       "..           ...       ...            ...            ...       ...       ...   \n",
       "675     2.236791 -0.620901       0.334755       2.553666  1.579376  0.188461   \n",
       "676    -0.815788  0.098052      -0.170793       0.132070 -0.438841  0.717403   \n",
       "677     0.328929  0.063816      -0.002277      -0.329187  0.209735 -0.720235   \n",
       "678    -1.197360  0.234995      -1.013373      -0.613268 -0.438841 -0.191293   \n",
       "679    -1.197360 -0.894788      -0.170793       0.593326 -0.438841 -0.150605   \n",
       "\n",
       "     DiabetesPedigreeFunction       Age  \n",
       "0                    0.606953  1.610682  \n",
       "1                   -0.340466 -0.127396  \n",
       "2                    0.761423 -0.035918  \n",
       "3                   -0.972078 -1.042174  \n",
       "4                   -0.855367 -0.218874  \n",
       "..                        ...       ...  \n",
       "675                 -0.958348  2.799893  \n",
       "676                 -0.378225 -0.493307  \n",
       "677                 -0.704330 -0.218874  \n",
       "678                 -0.347331  1.336248  \n",
       "679                 -0.464042 -0.859218  \n",
       "\n",
       "[680 rows x 8 columns]"
      ]
     },
     "execution_count": 25,
     "metadata": {},
     "output_type": "execute_result"
    }
   ],
   "source": [
    "df_scaled"
   ]
  },
  {
   "cell_type": "code",
   "execution_count": null,
   "id": "a066f2c8",
   "metadata": {},
   "outputs": [],
   "source": []
  },
  {
   "cell_type": "code",
   "execution_count": 26,
   "id": "a0867ce2",
   "metadata": {},
   "outputs": [
    {
     "data": {
      "text/plain": [
       "<AxesSubplot:>"
      ]
     },
     "execution_count": 26,
     "metadata": {},
     "output_type": "execute_result"
    }
   ],
   "source": [
    "#Check again  the box plot \n",
    "fig,ax=plt.pyplot.subplots(figsize=(20,20))\n",
    "sns.boxplot(data=df_scaled,ax=ax)   #All Boxes are at the same Standard"
   ]
  },
  {
   "cell_type": "code",
   "execution_count": null,
   "id": "100681a5",
   "metadata": {},
   "outputs": [],
   "source": []
  },
  {
   "cell_type": "code",
   "execution_count": 27,
   "id": "c56aa98e",
   "metadata": {},
   "outputs": [],
   "source": [
    "#Check Multicollinearity\n",
    "def vif_score(x,x_scaled):\n",
    "    return pd.DataFrame([ [x.columns[i],variance_inflation_factor(x_scaled,i)] for i in range(x_scaled.shape[1])] , columns = ('FEATURE','VIF_SCORE'))\n",
    "    "
   ]
  },
  {
   "cell_type": "code",
   "execution_count": 28,
   "id": "f90a0c12",
   "metadata": {},
   "outputs": [
    {
     "data": {
      "text/html": [
       "<div>\n",
       "<style scoped>\n",
       "    .dataframe tbody tr th:only-of-type {\n",
       "        vertical-align: middle;\n",
       "    }\n",
       "\n",
       "    .dataframe tbody tr th {\n",
       "        vertical-align: top;\n",
       "    }\n",
       "\n",
       "    .dataframe thead th {\n",
       "        text-align: right;\n",
       "    }\n",
       "</style>\n",
       "<table border=\"1\" class=\"dataframe\">\n",
       "  <thead>\n",
       "    <tr style=\"text-align: right;\">\n",
       "      <th></th>\n",
       "      <th>FEATURE</th>\n",
       "      <th>VIF_SCORE</th>\n",
       "    </tr>\n",
       "  </thead>\n",
       "  <tbody>\n",
       "    <tr>\n",
       "      <th>0</th>\n",
       "      <td>Pregnancies</td>\n",
       "      <td>1.419437</td>\n",
       "    </tr>\n",
       "    <tr>\n",
       "      <th>1</th>\n",
       "      <td>Glucose</td>\n",
       "      <td>1.312746</td>\n",
       "    </tr>\n",
       "    <tr>\n",
       "      <th>2</th>\n",
       "      <td>BloodPressure</td>\n",
       "      <td>1.242075</td>\n",
       "    </tr>\n",
       "    <tr>\n",
       "      <th>3</th>\n",
       "      <td>SkinThickness</td>\n",
       "      <td>1.419748</td>\n",
       "    </tr>\n",
       "    <tr>\n",
       "      <th>4</th>\n",
       "      <td>Insulin</td>\n",
       "      <td>1.278646</td>\n",
       "    </tr>\n",
       "    <tr>\n",
       "      <th>5</th>\n",
       "      <td>BMI</td>\n",
       "      <td>1.430717</td>\n",
       "    </tr>\n",
       "    <tr>\n",
       "      <th>6</th>\n",
       "      <td>DiabetesPedigreeFunction</td>\n",
       "      <td>1.044110</td>\n",
       "    </tr>\n",
       "    <tr>\n",
       "      <th>7</th>\n",
       "      <td>Age</td>\n",
       "      <td>1.585458</td>\n",
       "    </tr>\n",
       "  </tbody>\n",
       "</table>\n",
       "</div>"
      ],
      "text/plain": [
       "                    FEATURE  VIF_SCORE\n",
       "0               Pregnancies   1.419437\n",
       "1                   Glucose   1.312746\n",
       "2             BloodPressure   1.242075\n",
       "3             SkinThickness   1.419748\n",
       "4                   Insulin   1.278646\n",
       "5                       BMI   1.430717\n",
       "6  DiabetesPedigreeFunction   1.044110\n",
       "7                       Age   1.585458"
      ]
     },
     "execution_count": 28,
     "metadata": {},
     "output_type": "execute_result"
    }
   ],
   "source": [
    "vif_score(x,x_scaled)"
   ]
  },
  {
   "cell_type": "code",
   "execution_count": null,
   "id": "796bf847",
   "metadata": {},
   "outputs": [],
   "source": []
  },
  {
   "cell_type": "code",
   "execution_count": 29,
   "id": "69d0eaf7",
   "metadata": {},
   "outputs": [],
   "source": [
    "x_train , x_test , y_train,y_test = train_test_split(df_scaled,y,test_size = .20 , random_state = 144)"
   ]
  },
  {
   "cell_type": "code",
   "execution_count": 30,
   "id": "a370ae82",
   "metadata": {},
   "outputs": [
    {
     "data": {
      "text/html": [
       "<div>\n",
       "<style scoped>\n",
       "    .dataframe tbody tr th:only-of-type {\n",
       "        vertical-align: middle;\n",
       "    }\n",
       "\n",
       "    .dataframe tbody tr th {\n",
       "        vertical-align: top;\n",
       "    }\n",
       "\n",
       "    .dataframe thead th {\n",
       "        text-align: right;\n",
       "    }\n",
       "</style>\n",
       "<table border=\"1\" class=\"dataframe\">\n",
       "  <thead>\n",
       "    <tr style=\"text-align: right;\">\n",
       "      <th></th>\n",
       "      <th>Pregnancies</th>\n",
       "      <th>Glucose</th>\n",
       "      <th>BloodPressure</th>\n",
       "      <th>SkinThickness</th>\n",
       "      <th>Insulin</th>\n",
       "      <th>BMI</th>\n",
       "      <th>DiabetesPedigreeFunction</th>\n",
       "      <th>Age</th>\n",
       "    </tr>\n",
       "  </thead>\n",
       "  <tbody>\n",
       "    <tr>\n",
       "      <th>224</th>\n",
       "      <td>-0.434215</td>\n",
       "      <td>-0.278543</td>\n",
       "      <td>-1.350405</td>\n",
       "      <td>1.515839</td>\n",
       "      <td>-0.438841</td>\n",
       "      <td>-0.191293</td>\n",
       "      <td>0.366665</td>\n",
       "      <td>-0.218874</td>\n",
       "    </tr>\n",
       "    <tr>\n",
       "      <th>59</th>\n",
       "      <td>-0.052643</td>\n",
       "      <td>0.919712</td>\n",
       "      <td>1.093077</td>\n",
       "      <td>0.132070</td>\n",
       "      <td>-0.031967</td>\n",
       "      <td>-0.354044</td>\n",
       "      <td>-0.896559</td>\n",
       "      <td>-0.493307</td>\n",
       "    </tr>\n",
       "    <tr>\n",
       "      <th>353</th>\n",
       "      <td>1.855219</td>\n",
       "      <td>-1.613741</td>\n",
       "      <td>0.503271</td>\n",
       "      <td>-0.098558</td>\n",
       "      <td>-0.438841</td>\n",
       "      <td>0.012147</td>\n",
       "      <td>-0.584186</td>\n",
       "      <td>0.512948</td>\n",
       "    </tr>\n",
       "    <tr>\n",
       "      <th>486</th>\n",
       "      <td>0.710502</td>\n",
       "      <td>-0.175835</td>\n",
       "      <td>1.345851</td>\n",
       "      <td>-0.613268</td>\n",
       "      <td>-0.438841</td>\n",
       "      <td>-0.503233</td>\n",
       "      <td>-0.697464</td>\n",
       "      <td>3.074326</td>\n",
       "    </tr>\n",
       "    <tr>\n",
       "      <th>467</th>\n",
       "      <td>-0.111767</td>\n",
       "      <td>-0.415486</td>\n",
       "      <td>0.334755</td>\n",
       "      <td>-0.613268</td>\n",
       "      <td>-0.438841</td>\n",
       "      <td>1.870225</td>\n",
       "      <td>0.809480</td>\n",
       "      <td>-0.767741</td>\n",
       "    </tr>\n",
       "    <tr>\n",
       "      <th>...</th>\n",
       "      <td>...</td>\n",
       "      <td>...</td>\n",
       "      <td>...</td>\n",
       "      <td>...</td>\n",
       "      <td>...</td>\n",
       "      <td>...</td>\n",
       "      <td>...</td>\n",
       "      <td>...</td>\n",
       "    </tr>\n",
       "    <tr>\n",
       "      <th>643</th>\n",
       "      <td>-0.815788</td>\n",
       "      <td>1.912552</td>\n",
       "      <td>1.345851</td>\n",
       "      <td>-0.613268</td>\n",
       "      <td>-0.438841</td>\n",
       "      <td>-1.167801</td>\n",
       "      <td>-0.426283</td>\n",
       "      <td>-0.950696</td>\n",
       "    </tr>\n",
       "    <tr>\n",
       "      <th>422</th>\n",
       "      <td>-0.111767</td>\n",
       "      <td>0.132288</td>\n",
       "      <td>1.345851</td>\n",
       "      <td>1.285211</td>\n",
       "      <td>-0.438841</td>\n",
       "      <td>0.500401</td>\n",
       "      <td>-0.869098</td>\n",
       "      <td>-0.310352</td>\n",
       "    </tr>\n",
       "    <tr>\n",
       "      <th>216</th>\n",
       "      <td>1.855219</td>\n",
       "      <td>2.220675</td>\n",
       "      <td>1.093077</td>\n",
       "      <td>-1.251699</td>\n",
       "      <td>-0.438841</td>\n",
       "      <td>-0.204855</td>\n",
       "      <td>2.618501</td>\n",
       "      <td>1.519204</td>\n",
       "    </tr>\n",
       "    <tr>\n",
       "      <th>444</th>\n",
       "      <td>2.236791</td>\n",
       "      <td>-1.511033</td>\n",
       "      <td>0.840303</td>\n",
       "      <td>-0.613268</td>\n",
       "      <td>-0.438841</td>\n",
       "      <td>0.242711</td>\n",
       "      <td>-0.642541</td>\n",
       "      <td>0.512948</td>\n",
       "    </tr>\n",
       "    <tr>\n",
       "      <th>359</th>\n",
       "      <td>0.710502</td>\n",
       "      <td>-0.586665</td>\n",
       "      <td>1.514367</td>\n",
       "      <td>1.515839</td>\n",
       "      <td>-0.438841</td>\n",
       "      <td>0.568214</td>\n",
       "      <td>0.768288</td>\n",
       "      <td>-0.401830</td>\n",
       "    </tr>\n",
       "  </tbody>\n",
       "</table>\n",
       "<p>544 rows × 8 columns</p>\n",
       "</div>"
      ],
      "text/plain": [
       "     Pregnancies   Glucose  BloodPressure  SkinThickness   Insulin       BMI  \\\n",
       "224    -0.434215 -0.278543      -1.350405       1.515839 -0.438841 -0.191293   \n",
       "59     -0.052643  0.919712       1.093077       0.132070 -0.031967 -0.354044   \n",
       "353     1.855219 -1.613741       0.503271      -0.098558 -0.438841  0.012147   \n",
       "486     0.710502 -0.175835       1.345851      -0.613268 -0.438841 -0.503233   \n",
       "467    -0.111767 -0.415486       0.334755      -0.613268 -0.438841  1.870225   \n",
       "..           ...       ...            ...            ...       ...       ...   \n",
       "643    -0.815788  1.912552       1.345851      -0.613268 -0.438841 -1.167801   \n",
       "422    -0.111767  0.132288       1.345851       1.285211 -0.438841  0.500401   \n",
       "216     1.855219  2.220675       1.093077      -1.251699 -0.438841 -0.204855   \n",
       "444     2.236791 -1.511033       0.840303      -0.613268 -0.438841  0.242711   \n",
       "359     0.710502 -0.586665       1.514367       1.515839 -0.438841  0.568214   \n",
       "\n",
       "     DiabetesPedigreeFunction       Age  \n",
       "224                  0.366665 -0.218874  \n",
       "59                  -0.896559 -0.493307  \n",
       "353                 -0.584186  0.512948  \n",
       "486                 -0.697464  3.074326  \n",
       "467                  0.809480 -0.767741  \n",
       "..                        ...       ...  \n",
       "643                 -0.426283 -0.950696  \n",
       "422                 -0.869098 -0.310352  \n",
       "216                  2.618501  1.519204  \n",
       "444                 -0.642541  0.512948  \n",
       "359                  0.768288 -0.401830  \n",
       "\n",
       "[544 rows x 8 columns]"
      ]
     },
     "execution_count": 30,
     "metadata": {},
     "output_type": "execute_result"
    }
   ],
   "source": [
    "x_train"
   ]
  },
  {
   "cell_type": "code",
   "execution_count": 31,
   "id": "a3d5d48a",
   "metadata": {},
   "outputs": [
    {
     "data": {
      "text/html": [
       "<div>\n",
       "<style scoped>\n",
       "    .dataframe tbody tr th:only-of-type {\n",
       "        vertical-align: middle;\n",
       "    }\n",
       "\n",
       "    .dataframe tbody tr th {\n",
       "        vertical-align: top;\n",
       "    }\n",
       "\n",
       "    .dataframe thead th {\n",
       "        text-align: right;\n",
       "    }\n",
       "</style>\n",
       "<table border=\"1\" class=\"dataframe\">\n",
       "  <thead>\n",
       "    <tr style=\"text-align: right;\">\n",
       "      <th></th>\n",
       "      <th>Pregnancies</th>\n",
       "      <th>Glucose</th>\n",
       "      <th>BloodPressure</th>\n",
       "      <th>SkinThickness</th>\n",
       "      <th>Insulin</th>\n",
       "      <th>BMI</th>\n",
       "      <th>DiabetesPedigreeFunction</th>\n",
       "      <th>Age</th>\n",
       "    </tr>\n",
       "  </thead>\n",
       "  <tbody>\n",
       "    <tr>\n",
       "      <th>352</th>\n",
       "      <td>0.328929</td>\n",
       "      <td>0.577354</td>\n",
       "      <td>1.008819</td>\n",
       "      <td>1.746467</td>\n",
       "      <td>-0.273668</td>\n",
       "      <td>0.473276</td>\n",
       "      <td>-0.563590</td>\n",
       "      <td>0.238515</td>\n",
       "    </tr>\n",
       "    <tr>\n",
       "      <th>446</th>\n",
       "      <td>-1.197360</td>\n",
       "      <td>0.371939</td>\n",
       "      <td>-1.013373</td>\n",
       "      <td>-0.329187</td>\n",
       "      <td>1.377958</td>\n",
       "      <td>-0.394732</td>\n",
       "      <td>0.830077</td>\n",
       "      <td>-1.042174</td>\n",
       "    </tr>\n",
       "    <tr>\n",
       "      <th>21</th>\n",
       "      <td>2.618364</td>\n",
       "      <td>0.817005</td>\n",
       "      <td>1.851399</td>\n",
       "      <td>0.823954</td>\n",
       "      <td>0.894555</td>\n",
       "      <td>0.690277</td>\n",
       "      <td>-0.673435</td>\n",
       "      <td>1.702159</td>\n",
       "    </tr>\n",
       "    <tr>\n",
       "      <th>664</th>\n",
       "      <td>-1.197360</td>\n",
       "      <td>0.063816</td>\n",
       "      <td>0.503271</td>\n",
       "      <td>1.515839</td>\n",
       "      <td>-0.555653</td>\n",
       "      <td>1.015780</td>\n",
       "      <td>-0.649407</td>\n",
       "      <td>-0.401830</td>\n",
       "    </tr>\n",
       "    <tr>\n",
       "      <th>390</th>\n",
       "      <td>-0.052643</td>\n",
       "      <td>-0.073127</td>\n",
       "      <td>-0.844857</td>\n",
       "      <td>-1.597642</td>\n",
       "      <td>-0.438841</td>\n",
       "      <td>-0.245543</td>\n",
       "      <td>-0.240918</td>\n",
       "      <td>-0.218874</td>\n",
       "    </tr>\n",
       "    <tr>\n",
       "      <th>...</th>\n",
       "      <td>...</td>\n",
       "      <td>...</td>\n",
       "      <td>...</td>\n",
       "      <td>...</td>\n",
       "      <td>...</td>\n",
       "      <td>...</td>\n",
       "      <td>...</td>\n",
       "      <td>...</td>\n",
       "    </tr>\n",
       "    <tr>\n",
       "      <th>393</th>\n",
       "      <td>-0.111767</td>\n",
       "      <td>-0.518194</td>\n",
       "      <td>-0.676341</td>\n",
       "      <td>1.285211</td>\n",
       "      <td>-0.757071</td>\n",
       "      <td>0.283399</td>\n",
       "      <td>0.205330</td>\n",
       "      <td>-0.950696</td>\n",
       "    </tr>\n",
       "    <tr>\n",
       "      <th>498</th>\n",
       "      <td>-0.111767</td>\n",
       "      <td>-0.963260</td>\n",
       "      <td>0.671787</td>\n",
       "      <td>-0.613268</td>\n",
       "      <td>-0.438841</td>\n",
       "      <td>0.120647</td>\n",
       "      <td>0.517703</td>\n",
       "      <td>-0.493307</td>\n",
       "    </tr>\n",
       "    <tr>\n",
       "      <th>50</th>\n",
       "      <td>-0.815788</td>\n",
       "      <td>-1.202911</td>\n",
       "      <td>-0.246164</td>\n",
       "      <td>-0.613268</td>\n",
       "      <td>-0.438841</td>\n",
       "      <td>-4.273640</td>\n",
       "      <td>-0.501802</td>\n",
       "      <td>-1.042174</td>\n",
       "    </tr>\n",
       "    <tr>\n",
       "      <th>84</th>\n",
       "      <td>-1.197360</td>\n",
       "      <td>-1.647977</td>\n",
       "      <td>-2.024469</td>\n",
       "      <td>-0.905757</td>\n",
       "      <td>-0.515369</td>\n",
       "      <td>-1.506867</td>\n",
       "      <td>-0.436581</td>\n",
       "      <td>-0.950696</td>\n",
       "    </tr>\n",
       "    <tr>\n",
       "      <th>312</th>\n",
       "      <td>-1.197360</td>\n",
       "      <td>-0.997495</td>\n",
       "      <td>-0.844857</td>\n",
       "      <td>-1.597642</td>\n",
       "      <td>-1.180048</td>\n",
       "      <td>-0.584609</td>\n",
       "      <td>0.445617</td>\n",
       "      <td>-0.767741</td>\n",
       "    </tr>\n",
       "  </tbody>\n",
       "</table>\n",
       "<p>136 rows × 8 columns</p>\n",
       "</div>"
      ],
      "text/plain": [
       "     Pregnancies   Glucose  BloodPressure  SkinThickness   Insulin       BMI  \\\n",
       "352     0.328929  0.577354       1.008819       1.746467 -0.273668  0.473276   \n",
       "446    -1.197360  0.371939      -1.013373      -0.329187  1.377958 -0.394732   \n",
       "21      2.618364  0.817005       1.851399       0.823954  0.894555  0.690277   \n",
       "664    -1.197360  0.063816       0.503271       1.515839 -0.555653  1.015780   \n",
       "390    -0.052643 -0.073127      -0.844857      -1.597642 -0.438841 -0.245543   \n",
       "..           ...       ...            ...            ...       ...       ...   \n",
       "393    -0.111767 -0.518194      -0.676341       1.285211 -0.757071  0.283399   \n",
       "498    -0.111767 -0.963260       0.671787      -0.613268 -0.438841  0.120647   \n",
       "50     -0.815788 -1.202911      -0.246164      -0.613268 -0.438841 -4.273640   \n",
       "84     -1.197360 -1.647977      -2.024469      -0.905757 -0.515369 -1.506867   \n",
       "312    -1.197360 -0.997495      -0.844857      -1.597642 -1.180048 -0.584609   \n",
       "\n",
       "     DiabetesPedigreeFunction       Age  \n",
       "352                 -0.563590  0.238515  \n",
       "446                  0.830077 -1.042174  \n",
       "21                  -0.673435  1.702159  \n",
       "664                 -0.649407 -0.401830  \n",
       "390                 -0.240918 -0.218874  \n",
       "..                        ...       ...  \n",
       "393                  0.205330 -0.950696  \n",
       "498                  0.517703 -0.493307  \n",
       "50                  -0.501802 -1.042174  \n",
       "84                  -0.436581 -0.950696  \n",
       "312                  0.445617 -0.767741  \n",
       "\n",
       "[136 rows x 8 columns]"
      ]
     },
     "execution_count": 31,
     "metadata": {},
     "output_type": "execute_result"
    }
   ],
   "source": [
    "x_test"
   ]
  },
  {
   "cell_type": "code",
   "execution_count": 32,
   "id": "d0184585",
   "metadata": {},
   "outputs": [
    {
     "data": {
      "text/plain": [
       "256    0\n",
       "69     0\n",
       "403    0\n",
       "552    0\n",
       "531    0\n",
       "      ..\n",
       "728    0\n",
       "481    0\n",
       "245    1\n",
       "505    0\n",
       "410    0\n",
       "Name: Outcome, Length: 544, dtype: int64"
      ]
     },
     "execution_count": 32,
     "metadata": {},
     "output_type": "execute_result"
    }
   ],
   "source": [
    "y_train"
   ]
  },
  {
   "cell_type": "code",
   "execution_count": 33,
   "id": "e47de5d1",
   "metadata": {},
   "outputs": [
    {
     "data": {
      "text/plain": [
       "402    1\n",
       "507    0\n",
       "24     1\n",
       "751    0\n",
       "444    1\n",
       "      ..\n",
       "448    1\n",
       "564    0\n",
       "60     0\n",
       "97     0\n",
       "353    0\n",
       "Name: Outcome, Length: 136, dtype: int64"
      ]
     },
     "execution_count": 33,
     "metadata": {},
     "output_type": "execute_result"
    }
   ],
   "source": [
    "y_test"
   ]
  },
  {
   "cell_type": "code",
   "execution_count": null,
   "id": "65794550",
   "metadata": {},
   "outputs": [],
   "source": []
  },
  {
   "cell_type": "code",
   "execution_count": null,
   "id": "28ae7b8f",
   "metadata": {},
   "outputs": [],
   "source": []
  },
  {
   "cell_type": "code",
   "execution_count": 34,
   "id": "3aa37715",
   "metadata": {},
   "outputs": [
    {
     "data": {
      "text/html": [
       "<style>#sk-container-id-1 {color: black;background-color: white;}#sk-container-id-1 pre{padding: 0;}#sk-container-id-1 div.sk-toggleable {background-color: white;}#sk-container-id-1 label.sk-toggleable__label {cursor: pointer;display: block;width: 100%;margin-bottom: 0;padding: 0.3em;box-sizing: border-box;text-align: center;}#sk-container-id-1 label.sk-toggleable__label-arrow:before {content: \"▸\";float: left;margin-right: 0.25em;color: #696969;}#sk-container-id-1 label.sk-toggleable__label-arrow:hover:before {color: black;}#sk-container-id-1 div.sk-estimator:hover label.sk-toggleable__label-arrow:before {color: black;}#sk-container-id-1 div.sk-toggleable__content {max-height: 0;max-width: 0;overflow: hidden;text-align: left;background-color: #f0f8ff;}#sk-container-id-1 div.sk-toggleable__content pre {margin: 0.2em;color: black;border-radius: 0.25em;background-color: #f0f8ff;}#sk-container-id-1 input.sk-toggleable__control:checked~div.sk-toggleable__content {max-height: 200px;max-width: 100%;overflow: auto;}#sk-container-id-1 input.sk-toggleable__control:checked~label.sk-toggleable__label-arrow:before {content: \"▾\";}#sk-container-id-1 div.sk-estimator input.sk-toggleable__control:checked~label.sk-toggleable__label {background-color: #d4ebff;}#sk-container-id-1 div.sk-label input.sk-toggleable__control:checked~label.sk-toggleable__label {background-color: #d4ebff;}#sk-container-id-1 input.sk-hidden--visually {border: 0;clip: rect(1px 1px 1px 1px);clip: rect(1px, 1px, 1px, 1px);height: 1px;margin: -1px;overflow: hidden;padding: 0;position: absolute;width: 1px;}#sk-container-id-1 div.sk-estimator {font-family: monospace;background-color: #f0f8ff;border: 1px dotted black;border-radius: 0.25em;box-sizing: border-box;margin-bottom: 0.5em;}#sk-container-id-1 div.sk-estimator:hover {background-color: #d4ebff;}#sk-container-id-1 div.sk-parallel-item::after {content: \"\";width: 100%;border-bottom: 1px solid gray;flex-grow: 1;}#sk-container-id-1 div.sk-label:hover label.sk-toggleable__label {background-color: #d4ebff;}#sk-container-id-1 div.sk-serial::before {content: \"\";position: absolute;border-left: 1px solid gray;box-sizing: border-box;top: 0;bottom: 0;left: 50%;z-index: 0;}#sk-container-id-1 div.sk-serial {display: flex;flex-direction: column;align-items: center;background-color: white;padding-right: 0.2em;padding-left: 0.2em;position: relative;}#sk-container-id-1 div.sk-item {position: relative;z-index: 1;}#sk-container-id-1 div.sk-parallel {display: flex;align-items: stretch;justify-content: center;background-color: white;position: relative;}#sk-container-id-1 div.sk-item::before, #sk-container-id-1 div.sk-parallel-item::before {content: \"\";position: absolute;border-left: 1px solid gray;box-sizing: border-box;top: 0;bottom: 0;left: 50%;z-index: -1;}#sk-container-id-1 div.sk-parallel-item {display: flex;flex-direction: column;z-index: 1;position: relative;background-color: white;}#sk-container-id-1 div.sk-parallel-item:first-child::after {align-self: flex-end;width: 50%;}#sk-container-id-1 div.sk-parallel-item:last-child::after {align-self: flex-start;width: 50%;}#sk-container-id-1 div.sk-parallel-item:only-child::after {width: 0;}#sk-container-id-1 div.sk-dashed-wrapped {border: 1px dashed gray;margin: 0 0.4em 0.5em 0.4em;box-sizing: border-box;padding-bottom: 0.4em;background-color: white;}#sk-container-id-1 div.sk-label label {font-family: monospace;font-weight: bold;display: inline-block;line-height: 1.2em;}#sk-container-id-1 div.sk-label-container {text-align: center;}#sk-container-id-1 div.sk-container {/* jupyter's `normalize.less` sets `[hidden] { display: none; }` but bootstrap.min.css set `[hidden] { display: none !important; }` so we also need the `!important` here to be able to override the default hidden behavior on the sphinx rendered scikit-learn.org. See: https://github.com/scikit-learn/scikit-learn/issues/21755 */display: inline-block !important;position: relative;}#sk-container-id-1 div.sk-text-repr-fallback {display: none;}</style><div id=\"sk-container-id-1\" class=\"sk-top-container\"><div class=\"sk-text-repr-fallback\"><pre>LogisticRegression(random_state=0)</pre><b>In a Jupyter environment, please rerun this cell to show the HTML representation or trust the notebook. <br />On GitHub, the HTML representation is unable to render, please try loading this page with nbviewer.org.</b></div><div class=\"sk-container\" hidden><div class=\"sk-item\"><div class=\"sk-estimator sk-toggleable\"><input class=\"sk-toggleable__control sk-hidden--visually\" id=\"sk-estimator-id-1\" type=\"checkbox\" checked><label for=\"sk-estimator-id-1\" class=\"sk-toggleable__label sk-toggleable__label-arrow\">LogisticRegression</label><div class=\"sk-toggleable__content\"><pre>LogisticRegression(random_state=0)</pre></div></div></div></div></div>"
      ],
      "text/plain": [
       "LogisticRegression(random_state=0)"
      ]
     },
     "execution_count": 34,
     "metadata": {},
     "output_type": "execute_result"
    }
   ],
   "source": [
    "#Logistic Regression\n",
    "from sklearn.linear_model import LogisticRegression\n",
    "log = LogisticRegression (random_state = 0)\n",
    "log.fit(x_train,y_train)"
   ]
  },
  {
   "cell_type": "code",
   "execution_count": 35,
   "id": "76c43956",
   "metadata": {},
   "outputs": [
    {
     "name": "stdout",
     "output_type": "stream",
     "text": [
      "[[84 10]\n",
      " [23 19]]\n",
      "Testing Accuracy =  0.7573529411764706\n"
     ]
    }
   ],
   "source": [
    "from sklearn. metrics import confusion_matrix\n",
    "cm = confusion_matrix(y_test, log.predict(x_test) )\n",
    "TP = cm[1][1]\n",
    "TN = cm[0][0]\n",
    "FN = cm[1][0]\n",
    "FP = cm[0][1]\n",
    "print (cm)\n",
    "print ( 'Testing Accuracy = ', (TP + TN) / (TP + TN + FP + FN) )"
   ]
  },
  {
   "cell_type": "code",
   "execution_count": 36,
   "id": "edf23e88",
   "metadata": {},
   "outputs": [
    {
     "data": {
      "text/plain": [
       "{'Accuracy': 0.7573529411764706,\n",
       " 'Precision': 0.6551724137931034,\n",
       " 'Recall': 0.4523809523809524,\n",
       " 'Specficity': 0.8936170212765957,\n",
       " 'F1': 0.5352112676056338}"
      ]
     },
     "execution_count": 36,
     "metadata": {},
     "output_type": "execute_result"
    }
   ],
   "source": [
    "def model_eval(y_true,y_pred):\n",
    "    tn, fp, fn, tp = confusion_matrix(y_test,y_pred).ravel()\n",
    "    accuracy=(tp+tn)/(tp+tn+fp+fn)\n",
    "    precision=tp/(tp+fp)\n",
    "    recall=tp/(tp+fn)\n",
    "    specificity=tn/(fp+tn)\n",
    "    F1_Score = 2*(recall * precision) / (recall + precision)\n",
    "    result={\"Accuracy\":accuracy,\"Precision\":precision,\"Recall\":recall,'Specficity':specificity,'F1':F1_Score}\n",
    "    return result\n",
    "\n",
    "model_eval(y_test,log.predict(x_test))"
   ]
  },
  {
   "cell_type": "code",
   "execution_count": 37,
   "id": "2025add8",
   "metadata": {},
   "outputs": [
    {
     "data": {
      "text/plain": [
       "0.672998986828774"
      ]
     },
     "execution_count": 37,
     "metadata": {},
     "output_type": "execute_result"
    }
   ],
   "source": [
    "roc_auc_score(y_test,log.predict(x_test))"
   ]
  },
  {
   "cell_type": "code",
   "execution_count": null,
   "id": "bec15a5d",
   "metadata": {},
   "outputs": [],
   "source": []
  },
  {
   "cell_type": "code",
   "execution_count": 38,
   "id": "9372865a",
   "metadata": {},
   "outputs": [
    {
     "name": "stderr",
     "output_type": "stream",
     "text": [
      "C:\\Users\\rumma\\AppData\\Local\\Temp/ipykernel_21060/1196591685.py:10: UserWarning: Matplotlib is currently using agg, which is a non-GUI backend, so cannot show the figure.\n",
      "  plt.pyplot.show()\n"
     ]
    }
   ],
   "source": [
    "fpr, tpr, thresholds  = roc_curve(y_test,log.predict(x_test))\n",
    "auc = roc_auc_score(y_test,log.predict(x_test))\n",
    "\n",
    "plt.pyplot.plot(fpr, tpr, color='orange', label='ROC')\n",
    "plt.pyplot.plot([0, 1], [0, 1], color='darkblue', linestyle='--',label='ROC curve (area = %0.2f)' % auc)\n",
    "plt.pyplot.xlabel('False Positive Rate')\n",
    "plt.pyplot.ylabel('True Positive Rate')\n",
    "plt.pyplot.title('Receiver Operating Characteristic (ROC) Curve')\n",
    "plt.pyplot.legend()\n",
    "plt.pyplot.show()"
   ]
  },
  {
   "cell_type": "code",
   "execution_count": null,
   "id": "d5108704",
   "metadata": {},
   "outputs": [],
   "source": []
  },
  {
   "cell_type": "code",
   "execution_count": 39,
   "id": "7620e073",
   "metadata": {},
   "outputs": [],
   "source": [
    "#checking with other Algorithms"
   ]
  },
  {
   "cell_type": "code",
   "execution_count": null,
   "id": "0a560a6d",
   "metadata": {},
   "outputs": [],
   "source": []
  },
  {
   "cell_type": "code",
   "execution_count": 40,
   "id": "65624b2f",
   "metadata": {},
   "outputs": [
    {
     "data": {
      "text/plain": [
       "0.7205882352941176"
      ]
     },
     "execution_count": 40,
     "metadata": {},
     "output_type": "execute_result"
    }
   ],
   "source": [
    "#DECision Tree\n",
    "from sklearn.tree import DecisionTreeClassifier\n",
    "dt_model_p = DecisionTreeClassifier()\n",
    "dt_model_p.fit(x_train,y_train)\n",
    "dt_model_p.score(x_test,y_test)"
   ]
  },
  {
   "cell_type": "code",
   "execution_count": null,
   "id": "4611cbb9",
   "metadata": {},
   "outputs": [],
   "source": []
  },
  {
   "cell_type": "code",
   "execution_count": 41,
   "id": "3f700b75",
   "metadata": {},
   "outputs": [
    {
     "data": {
      "text/plain": [
       "0.8014705882352942"
      ]
     },
     "execution_count": 41,
     "metadata": {},
     "output_type": "execute_result"
    }
   ],
   "source": [
    "#Random Forest Classifier\n",
    "from sklearn.ensemble import RandomForestClassifier\n",
    "forest=RandomForestClassifier(n_estimators = 10, criterion = 'entropy' , random_state = 0)\n",
    "forest.fit (x_train, y_train)\n",
    "forest.score (x_test, y_test) "
   ]
  },
  {
   "cell_type": "code",
   "execution_count": null,
   "id": "d6e30097",
   "metadata": {},
   "outputs": [],
   "source": []
  },
  {
   "cell_type": "code",
   "execution_count": 42,
   "id": "f5e14772",
   "metadata": {},
   "outputs": [
    {
     "data": {
      "text/plain": [
       "0.7573529411764706"
      ]
     },
     "execution_count": 42,
     "metadata": {},
     "output_type": "execute_result"
    }
   ],
   "source": [
    "#SVM\n",
    "from sklearn.svm import SVC # \"Support vector classifier\"  \n",
    "dt_model_svm = SVC(kernel='linear', random_state=0)\n",
    "dt_model_svm .fit(x_train ,y_train)\n",
    "dt_model_svm .score(x_test ,y_test)"
   ]
  },
  {
   "cell_type": "code",
   "execution_count": null,
   "id": "7d50a7e8",
   "metadata": {},
   "outputs": [],
   "source": []
  },
  {
   "cell_type": "code",
   "execution_count": 43,
   "id": "73262770",
   "metadata": {},
   "outputs": [
    {
     "data": {
      "text/plain": [
       "0.7426470588235294"
      ]
     },
     "execution_count": 43,
     "metadata": {},
     "output_type": "execute_result"
    }
   ],
   "source": [
    "#knn\n",
    "from sklearn.neighbors import KNeighborsClassifier\n",
    "neigh = KNeighborsClassifier(n_neighbors=3)\n",
    "neigh.fit(x_train, y_train)\n",
    "neigh.score(x_test,y_test)"
   ]
  },
  {
   "cell_type": "code",
   "execution_count": null,
   "id": "20dd76dd",
   "metadata": {},
   "outputs": [],
   "source": []
  },
  {
   "cell_type": "code",
   "execution_count": 44,
   "id": "94b4530b",
   "metadata": {},
   "outputs": [
    {
     "data": {
      "text/plain": [
       "0.7794117647058824"
      ]
     },
     "execution_count": 44,
     "metadata": {},
     "output_type": "execute_result"
    }
   ],
   "source": [
    "#XGBoost\n",
    "from xgboost import XGBClassifier\n",
    "from sklearn.metrics import accuracy_score\n",
    "xg_boost = XGBClassifier(n_estimators=15)\n",
    "xg_boost.fit(x_train, y_train)\n",
    "xg_boost.score(x_test,y_test)"
   ]
  },
  {
   "cell_type": "code",
   "execution_count": null,
   "id": "65bb603d",
   "metadata": {},
   "outputs": [],
   "source": []
  },
  {
   "cell_type": "code",
   "execution_count": 45,
   "id": "39bf53a8",
   "metadata": {},
   "outputs": [
    {
     "data": {
      "text/plain": [
       "0.7573529411764706"
      ]
     },
     "execution_count": 45,
     "metadata": {},
     "output_type": "execute_result"
    }
   ],
   "source": [
    "#AdaBoost\n",
    "from sklearn.ensemble import AdaBoostClassifier\n",
    "clf = AdaBoostClassifier(n_estimators=11)\n",
    "clf.fit(x_train,y_train)\n",
    "clf.score(x_test,y_test)"
   ]
  },
  {
   "cell_type": "code",
   "execution_count": null,
   "id": "a7c95d51",
   "metadata": {},
   "outputs": [],
   "source": []
  },
  {
   "cell_type": "code",
   "execution_count": 46,
   "id": "163904a4",
   "metadata": {},
   "outputs": [
    {
     "data": {
      "text/plain": [
       "0.7573529411764706"
      ]
     },
     "execution_count": 46,
     "metadata": {},
     "output_type": "execute_result"
    }
   ],
   "source": [
    "#GradientBoosting\n",
    "from sklearn.ensemble import GradientBoostingClassifier\n",
    "from sklearn.model_selection import RepeatedStratifiedKFold\n",
    "model_gb = GradientBoostingClassifier(n_estimators=10)\n",
    "model_gb.fit(x_train, y_train)\n",
    "model_gb.score(x_test,y_test)"
   ]
  },
  {
   "cell_type": "code",
   "execution_count": null,
   "id": "52bbe3bf",
   "metadata": {},
   "outputs": [],
   "source": []
  },
  {
   "cell_type": "code",
   "execution_count": 47,
   "id": "8987e098",
   "metadata": {},
   "outputs": [
    {
     "data": {
      "text/plain": [
       "0.7720588235294118"
      ]
     },
     "execution_count": 47,
     "metadata": {},
     "output_type": "execute_result"
    }
   ],
   "source": [
    "from sklearn.ensemble import HistGradientBoostingClassifier\n",
    "model_gbh = HistGradientBoostingClassifier(learning_rate=0.02)\n",
    "model_gbh.fit(x_train, y_train)\n",
    "model_gbh.score(x_test,y_test)"
   ]
  },
  {
   "cell_type": "code",
   "execution_count": null,
   "id": "234c3a83",
   "metadata": {},
   "outputs": [],
   "source": []
  },
  {
   "cell_type": "code",
   "execution_count": 48,
   "id": "8037b00a",
   "metadata": {},
   "outputs": [
    {
     "data": {
      "text/plain": [
       "0.8014705882352942"
      ]
     },
     "execution_count": 48,
     "metadata": {},
     "output_type": "execute_result"
    }
   ],
   "source": [
    "#lgbm\n",
    "from lightgbm import LGBMClassifier\n",
    "lgbm = LGBMClassifier()\n",
    "lgbm.fit(x_train, y_train)\n",
    "lgbm.score(x_test,y_test)"
   ]
  },
  {
   "cell_type": "code",
   "execution_count": null,
   "id": "5b24081f",
   "metadata": {},
   "outputs": [],
   "source": []
  },
  {
   "cell_type": "code",
   "execution_count": null,
   "id": "41e15623",
   "metadata": {},
   "outputs": [],
   "source": []
  },
  {
   "cell_type": "code",
   "execution_count": 49,
   "id": "08bf37f6",
   "metadata": {},
   "outputs": [
    {
     "data": {
      "text/plain": [
       "0.7867647058823529"
      ]
     },
     "execution_count": 49,
     "metadata": {},
     "output_type": "execute_result"
    }
   ],
   "source": [
    "#Ensembled Learning\n",
    "from sklearn.ensemble import VotingClassifier\n",
    "clf = AdaBoostClassifier(n_estimators=11)\n",
    "xg_boost = XGBClassifier(n_estimators=15)\n",
    "model_gbh = HistGradientBoostingClassifier(learning_rate=0.02)\n",
    "model_gb = GradientBoostingClassifier(n_estimators=10)\n",
    "lgbm = LGBMClassifier()\n",
    "\n",
    "model = VotingClassifier(estimators=[('clf', clf),('xg',xg_boost),('gbh',model_gbh),('gb',model_gb),('lg',lgbm)], voting='hard')\n",
    "model.fit(x_train,y_train)\n",
    "model.score(x_test,y_test)"
   ]
  },
  {
   "cell_type": "code",
   "execution_count": null,
   "id": "b6b820b3",
   "metadata": {},
   "outputs": [],
   "source": []
  },
  {
   "cell_type": "code",
   "execution_count": null,
   "id": "8283fca0",
   "metadata": {},
   "outputs": [],
   "source": []
  },
  {
   "cell_type": "code",
   "execution_count": null,
   "id": "1fa6f73b",
   "metadata": {},
   "outputs": [],
   "source": []
  },
  {
   "cell_type": "code",
   "execution_count": null,
   "id": "4962fbf0",
   "metadata": {},
   "outputs": [],
   "source": []
  },
  {
   "cell_type": "code",
   "execution_count": null,
   "id": "499b98a4",
   "metadata": {},
   "outputs": [],
   "source": []
  }
 ],
 "metadata": {
  "kernelspec": {
   "display_name": "Python 3 (ipykernel)",
   "language": "python",
   "name": "python3"
  },
  "language_info": {
   "codemirror_mode": {
    "name": "ipython",
    "version": 3
   },
   "file_extension": ".py",
   "mimetype": "text/x-python",
   "name": "python",
   "nbconvert_exporter": "python",
   "pygments_lexer": "ipython3",
   "version": "3.9.7"
  }
 },
 "nbformat": 4,
 "nbformat_minor": 5
}
